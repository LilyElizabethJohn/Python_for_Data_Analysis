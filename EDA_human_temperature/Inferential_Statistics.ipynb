{
 "cells": [
  {
   "cell_type": "markdown",
   "metadata": {},
   "source": [
    "# What is the True Normal Human Body Temperature? \n",
    "\n",
    "#### Background\n",
    "\n",
    "The mean normal body temperature was held to be 37$^{\\circ}$C or 98.6$^{\\circ}$F for more than 120 years since it was first conceptualized and reported by Carl Wunderlich in a famous 1868 book. But, is this value statistically correct?"
   ]
  },
  {
   "cell_type": "markdown",
   "metadata": {},
   "source": [
    "<h3>Exercises</h3>\n",
    "\n",
    "<p>In this exercise, you will analyze a dataset of human body temperatures and employ the concepts of hypothesis testing, confidence intervals, and statistical significance.</p>\n",
    "\n",
    "<ol>\n",
    "<li>  Is the distribution of body temperatures normal? \n",
    "    <ul>\n",
    "    <li> Although this is not a requirement for the Central Limit Theorem to hold (read the introduction on Wikipedia's page about the CLT carefully: https://en.wikipedia.org/wiki/Central_limit_theorem), it gives us some peace of mind that the population may also be normally distributed if we assume that this sample is representative of the population.\n",
    "    <li> Think about the way you're going to check for the normality of the distribution. Graphical methods are usually used first, but there are also other ways: https://en.wikipedia.org/wiki/Normality_test\n",
    "    </ul>\n",
    "<li>  Is the sample size large? Are the observations independent?\n",
    "    <ul>\n",
    "    <li> Remember that this is a condition for the Central Limit Theorem, and hence the statistical tests we are using, to apply.\n",
    "    </ul>\n",
    "<li>  Is the true population mean really 98.6 degrees F?\n",
    "    <ul>\n",
    "    <li> First, try a bootstrap hypothesis test.\n",
    "    <li> Now, let's try frequentist statistical testing. Would you use a one-sample or two-sample test? Why?\n",
    "    <li> In this situation, is it appropriate to use the $t$ or $z$ statistic? \n",
    "    <li> Now try using the other test. How is the result be different? Why?\n",
    "    </ul>"
   ]
  },
  {
   "cell_type": "code",
   "execution_count": null,
   "metadata": {},
   "outputs": [],
   "source": [
    "#Let's take a look at the data\n",
    "import pandas as pd\n",
    "\n",
    "df = pd.read_csv('data/human_body_temperature.csv')"
   ]
  },
  {
   "cell_type": "code",
   "execution_count": null,
   "metadata": {},
   "outputs": [],
   "source": [
    "#View the first 5 rows of the data \n",
    "df.head()"
   ]
  },
  {
   "cell_type": "code",
   "execution_count": null,
   "metadata": {},
   "outputs": [],
   "source": [
    "#Get a sense of the descriptive statistics\n",
    "df.describe()"
   ]
  },
  {
   "cell_type": "markdown",
   "metadata": {},
   "source": [
    "### Task 1: Is the distribution of body temperatures normal? "
   ]
  },
  {
   "cell_type": "code",
   "execution_count": null,
   "metadata": {},
   "outputs": [],
   "source": [
    "import matplotlib.pyplot as plt\n",
    "import seaborn as sns\n",
    "import numpy as np\n",
    "from scipy.stats import norm\n",
    "\n",
    "\n",
    "%matplotlib inline \n",
    "\n",
    "#Fit the given dataset to a normal distribution. The obtained parameters \n",
    "#are the mean and the standard deviation of the fitted normal curve\n",
    "mu, std = norm.fit(np.array(df['temperature']))\n",
    "\n",
    "#Generate an array of x-values based on the min and max values of the given boday temperature dataset\n",
    "xmin, xmax = np.min(df['temperature']), np.max(df['temperature'])\n",
    "x = np.linspace(xmin, xmax, 1000)\n",
    "\n",
    "#Calculate the probability of x array\n",
    "p = norm.pdf(x, mu, std)\n",
    "\n",
    "#Plotting histogram and the line plot together\n",
    "plt.hist(df['temperature'], bins=25, density=True, alpha=0.6, color='r')\n",
    "plt.plot(x, p, 'k', linewidth=2)\n",
    "title = \"Fit Results: mu = %.2f,  std = %.2f\" % (mu, std)\n",
    "plt.xlabel('body temperature')\n",
    "plt.ylabel('frequency')\n",
    "plt.title('Histogram of Body Temperature with %s' %title)\n",
    "plt.legend(['fitted normal distribution'])\n",
    "plt.show()"
   ]
  },
  {
   "cell_type": "markdown",
   "metadata": {},
   "source": [
    "### Task 2: Is the sample size large? Are the observations independent?"
   ]
  },
  {
   "cell_type": "markdown",
   "metadata": {},
   "source": []
  },
  {
   "cell_type": "markdown",
   "metadata": {},
   "source": [
    "### Task 3: Is the true population mean really 98.6 degrees F?"
   ]
  },
  {
   "cell_type": "markdown",
   "metadata": {},
   "source": [
    "In order to solve for this problem, a hypothesis test will need to be conducted. The null hypothesis would be that the true mean of body temperature is 98.6 F while the alternative hypothesis would be the mean of the body temperature is different from 98.6 F. Let T be the mean of body temperature, then the following statements would be applied for this hypothesis test."
   ]
  },
  {
   "cell_type": "markdown",
   "metadata": {},
   "source": [
    "#### Step 1: Boostrap Hypothesis Testing"
   ]
  },
  {
   "cell_type": "code",
   "execution_count": null,
   "metadata": {},
   "outputs": [],
   "source": [
    "size=10000\n",
    "alpha = 0.05\n",
    "\n",
    "# Under the assumption that the null hypothesis is true, we will need to shift the mean of the temperature dataset \n",
    "# to be exactly 98.6 \n",
    "shifted_temp = df['temperature'] -np.mean(df['temperature']) + 98.6\n",
    "\n",
    "def draw_bs_replicates(data, func, size):\n",
    "    #Initialize array of replicates \n",
    "    bs_replicates = np.empty(size)\n",
    "    for i in range(size):\n",
    "        # Generate bootstrap sample: bs_sample\n",
    "        bs_sample = np.random.choice(data, len(data))\n",
    "        #Calculate the mean of bootstrap sample\n",
    "        rep = func(bs_sample)\n",
    "        bs_replicates[i] = rep\n",
    "    return bs_replicates\n",
    "\n",
    "#Compute and print mean of boostrap replicates\n",
    "bs_replicates = draw_bs_replicates(shifted_temp, np.mean, size)\n",
    "bs_mean = np.mean(bs_replicates)\n",
    "print('The mean of bootstrap replicates is %f' %bs_mean)\n",
    "\n",
    "#Compute and print the standard error of the means\n",
    "sem = np.std(df['temperature'])/np.sqrt(len(df))\n",
    "print('The standard error of the mean body temperature is %f:' %sem)\n",
    "\n",
    "\n",
    "#Compute and print p-value:\n",
    "observed_mean1 = np.mean(df['temperature'])\n",
    "interval = 98.6 - observed_mean1\n",
    "observed_mean2 = bs_mean + interval\n",
    "\n",
    "p = np.sum(np.sum(bs_replicates < observed_mean1) + np.sum(bs_replicates > observed_mean2))/len(bs_replicates)\n",
    "print('The p-value of the number of bootstrap replicates that have a mean of 98.6 is %d:' %p, \\\n",
    "      'which is much less than alpha=0.05.')\n",
    "\n",
    "#Testing null hypothesis using p-value\n",
    "print(test_null(p))\n",
    "\n",
    "#Generate histogram plot of the results\n",
    "plt.hist(bs_replicates, bins=40, normed=True)\n",
    "plt.xlabel('Mean Body Temperature')\n",
    "plt.ylabel('Percentage')\n",
    "plt.axvline(x=98.6, color='r')\n",
    "plt.axvline(x=observed_mean1, color='k')\n",
    "plt.axvline(x=observed_mean2, color='k')\n",
    "plt.show()"
   ]
  },
  {
   "cell_type": "markdown",
   "metadata": {},
   "source": [
    "#### Step 2: Frequentist Statistical Testing\n",
    "\n",
    "A one-sample frequentist statistical test would be appropriate in this scenario since the dataset of boday temperatures will be tested against the population mean of 98.6 F. Since the population standard deviation is unknown, the t-statistic is more appropriate than the z-statistic in this case. However, since the sample size of this dataset is 130, which is sufficiently large and thus the results for the mean confidence interval obtained from z-statistic. In this scenario, a two-tailed z-test will be performed for a 95% confidence interval. "
   ]
  },
  {
   "cell_type": "code",
   "execution_count": null,
   "metadata": {},
   "outputs": [],
   "source": [
    "#Testing using z_score\n",
    "\n",
    "mean = np.mean(df['temperature'])\n",
    "std = np.std(df['temperature'])\n",
    "z_val = (mean - 98.6)/(std/np.sqrt(len(df)))\n",
    "z_test = stats.norm.cdf(z_val)*2\n",
    "print('The z-value is %f' %z_val + ' and the p-value is %f' %z_test)\n",
    "print('Since the p-value of the two-tailed z-test is much less than 0.05, ' + test_null(z_test))"
   ]
  }
 ],
 "metadata": {
  "kernelspec": {
   "display_name": "Python 3",
   "language": "python",
   "name": "python3"
  },
  "language_info": {
   "codemirror_mode": {
    "name": "ipython",
    "version": 3
   },
   "file_extension": ".py",
   "mimetype": "text/x-python",
   "name": "python",
   "nbconvert_exporter": "python",
   "pygments_lexer": "ipython3",
   "version": "3.6.8"
  }
 },
 "nbformat": 4,
 "nbformat_minor": 1
}
